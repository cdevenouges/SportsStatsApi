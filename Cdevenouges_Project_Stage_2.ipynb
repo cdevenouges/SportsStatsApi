{
 "cells": [
  {
   "cell_type": "code",
   "execution_count": 286,
   "id": "d1003f05",
   "metadata": {},
   "outputs": [],
   "source": [
    "import pandas as pd\n",
    "from datetime import datetime\n",
    "import matplotlib.pyplot as plt\n",
    "import numpy as np\n",
    "from tabulate import tabulate\n",
    "import scipy.stats as stats"
   ]
  },
  {
   "cell_type": "code",
   "execution_count": 287,
   "id": "39423824",
   "metadata": {},
   "outputs": [],
   "source": [
    "super_dataset = pd.read_csv(\"/Users/cassidydevenouges/super_covid_dataset.csv\")"
   ]
  },
  {
   "cell_type": "code",
   "execution_count": 288,
   "id": "c792a6d1",
   "metadata": {},
   "outputs": [],
   "source": [
    "super_dataset['cases per day'] = super_dataset['confirmed'].diff()\n",
    "super_dataset['deaths per day'] = super_dataset['deaths'].diff()"
   ]
  },
  {
   "cell_type": "code",
   "execution_count": 289,
   "id": "5f880263",
   "metadata": {
    "scrolled": false
   },
   "outputs": [
    {
     "data": {
      "text/html": [
       "<div>\n",
       "<style scoped>\n",
       "    .dataframe tbody tr th:only-of-type {\n",
       "        vertical-align: middle;\n",
       "    }\n",
       "\n",
       "    .dataframe tbody tr th {\n",
       "        vertical-align: top;\n",
       "    }\n",
       "\n",
       "    .dataframe thead th {\n",
       "        text-align: right;\n",
       "    }\n",
       "</style>\n",
       "<table border=\"1\" class=\"dataframe\">\n",
       "  <thead>\n",
       "    <tr style=\"text-align: right;\">\n",
       "      <th></th>\n",
       "      <th>countyFIPS</th>\n",
       "      <th>County Name</th>\n",
       "      <th>State</th>\n",
       "      <th>date</th>\n",
       "      <th>confirmed</th>\n",
       "      <th>deaths</th>\n",
       "      <th>population</th>\n",
       "      <th>cases per day</th>\n",
       "      <th>deaths per day</th>\n",
       "    </tr>\n",
       "  </thead>\n",
       "  <tbody>\n",
       "    <tr>\n",
       "      <th>1</th>\n",
       "      <td>0</td>\n",
       "      <td>statewide unallocated</td>\n",
       "      <td>AL</td>\n",
       "      <td>2020-01-23</td>\n",
       "      <td>0</td>\n",
       "      <td>0</td>\n",
       "      <td>0</td>\n",
       "      <td>0.0</td>\n",
       "      <td>0.0</td>\n",
       "    </tr>\n",
       "    <tr>\n",
       "      <th>2</th>\n",
       "      <td>0</td>\n",
       "      <td>statewide unallocated</td>\n",
       "      <td>AL</td>\n",
       "      <td>2020-01-24</td>\n",
       "      <td>0</td>\n",
       "      <td>0</td>\n",
       "      <td>0</td>\n",
       "      <td>0.0</td>\n",
       "      <td>0.0</td>\n",
       "    </tr>\n",
       "    <tr>\n",
       "      <th>3</th>\n",
       "      <td>0</td>\n",
       "      <td>statewide unallocated</td>\n",
       "      <td>AL</td>\n",
       "      <td>2020-01-25</td>\n",
       "      <td>0</td>\n",
       "      <td>0</td>\n",
       "      <td>0</td>\n",
       "      <td>0.0</td>\n",
       "      <td>0.0</td>\n",
       "    </tr>\n",
       "    <tr>\n",
       "      <th>4</th>\n",
       "      <td>0</td>\n",
       "      <td>statewide unallocated</td>\n",
       "      <td>AL</td>\n",
       "      <td>2020-01-26</td>\n",
       "      <td>0</td>\n",
       "      <td>0</td>\n",
       "      <td>0</td>\n",
       "      <td>0.0</td>\n",
       "      <td>0.0</td>\n",
       "    </tr>\n",
       "    <tr>\n",
       "      <th>5</th>\n",
       "      <td>0</td>\n",
       "      <td>statewide unallocated</td>\n",
       "      <td>AL</td>\n",
       "      <td>2020-01-27</td>\n",
       "      <td>0</td>\n",
       "      <td>0</td>\n",
       "      <td>0</td>\n",
       "      <td>0.0</td>\n",
       "      <td>0.0</td>\n",
       "    </tr>\n",
       "  </tbody>\n",
       "</table>\n",
       "</div>"
      ],
      "text/plain": [
       "   countyFIPS            County Name State        date  confirmed  deaths  \\\n",
       "1           0  statewide unallocated    AL  2020-01-23          0       0   \n",
       "2           0  statewide unallocated    AL  2020-01-24          0       0   \n",
       "3           0  statewide unallocated    AL  2020-01-25          0       0   \n",
       "4           0  statewide unallocated    AL  2020-01-26          0       0   \n",
       "5           0  statewide unallocated    AL  2020-01-27          0       0   \n",
       "\n",
       "   population  cases per day  deaths per day  \n",
       "1           0            0.0             0.0  \n",
       "2           0            0.0             0.0  \n",
       "3           0            0.0             0.0  \n",
       "4           0            0.0             0.0  \n",
       "5           0            0.0             0.0  "
      ]
     },
     "execution_count": 289,
     "metadata": {},
     "output_type": "execute_result"
    }
   ],
   "source": [
    "# drop the messed up values from 2020-01-22\n",
    "x = super_dataset[(super_dataset['date'] == '2020-01-22')].index\n",
    "super_dataset.drop(x, inplace=True)\n",
    "super_dataset.head()"
   ]
  },
  {
   "cell_type": "code",
   "execution_count": 290,
   "id": "309a7054",
   "metadata": {},
   "outputs": [],
   "source": [
    "super_dataset['date'] = super_dataset.date.apply(lambda d: datetime.strptime(d, '%Y-%m-%d'))\n",
    "super_dataset = super_dataset[super_dataset.countyFIPS != 0]"
   ]
  },
  {
   "cell_type": "code",
   "execution_count": 291,
   "id": "fbfc045c",
   "metadata": {
    "scrolled": true
   },
   "outputs": [
    {
     "data": {
      "text/html": [
       "<div>\n",
       "<style scoped>\n",
       "    .dataframe tbody tr th:only-of-type {\n",
       "        vertical-align: middle;\n",
       "    }\n",
       "\n",
       "    .dataframe tbody tr th {\n",
       "        vertical-align: top;\n",
       "    }\n",
       "\n",
       "    .dataframe thead th {\n",
       "        text-align: right;\n",
       "    }\n",
       "</style>\n",
       "<table border=\"1\" class=\"dataframe\">\n",
       "  <thead>\n",
       "    <tr style=\"text-align: right;\">\n",
       "      <th></th>\n",
       "      <th>State</th>\n",
       "      <th>date</th>\n",
       "      <th>confirmed</th>\n",
       "      <th>deaths</th>\n",
       "      <th>population</th>\n",
       "      <th>cases per day</th>\n",
       "      <th>deaths per day</th>\n",
       "    </tr>\n",
       "  </thead>\n",
       "  <tbody>\n",
       "    <tr>\n",
       "      <th>1461151</th>\n",
       "      <td>TX</td>\n",
       "      <td>2020-01-23</td>\n",
       "      <td>0</td>\n",
       "      <td>0</td>\n",
       "      <td>57735</td>\n",
       "      <td>0.0</td>\n",
       "      <td>0.0</td>\n",
       "    </tr>\n",
       "    <tr>\n",
       "      <th>1461152</th>\n",
       "      <td>TX</td>\n",
       "      <td>2020-01-24</td>\n",
       "      <td>0</td>\n",
       "      <td>0</td>\n",
       "      <td>57735</td>\n",
       "      <td>0.0</td>\n",
       "      <td>0.0</td>\n",
       "    </tr>\n",
       "    <tr>\n",
       "      <th>1461153</th>\n",
       "      <td>TX</td>\n",
       "      <td>2020-01-25</td>\n",
       "      <td>0</td>\n",
       "      <td>0</td>\n",
       "      <td>57735</td>\n",
       "      <td>0.0</td>\n",
       "      <td>0.0</td>\n",
       "    </tr>\n",
       "    <tr>\n",
       "      <th>1461154</th>\n",
       "      <td>TX</td>\n",
       "      <td>2020-01-26</td>\n",
       "      <td>0</td>\n",
       "      <td>0</td>\n",
       "      <td>57735</td>\n",
       "      <td>0.0</td>\n",
       "      <td>0.0</td>\n",
       "    </tr>\n",
       "    <tr>\n",
       "      <th>1461155</th>\n",
       "      <td>TX</td>\n",
       "      <td>2020-01-27</td>\n",
       "      <td>0</td>\n",
       "      <td>0</td>\n",
       "      <td>57735</td>\n",
       "      <td>0.0</td>\n",
       "      <td>0.0</td>\n",
       "    </tr>\n",
       "  </tbody>\n",
       "</table>\n",
       "</div>"
      ],
      "text/plain": [
       "        State       date  confirmed  deaths  population  cases per day  \\\n",
       "1461151    TX 2020-01-23          0       0       57735            0.0   \n",
       "1461152    TX 2020-01-24          0       0       57735            0.0   \n",
       "1461153    TX 2020-01-25          0       0       57735            0.0   \n",
       "1461154    TX 2020-01-26          0       0       57735            0.0   \n",
       "1461155    TX 2020-01-27          0       0       57735            0.0   \n",
       "\n",
       "         deaths per day  \n",
       "1461151             0.0  \n",
       "1461152             0.0  \n",
       "1461153             0.0  \n",
       "1461154             0.0  \n",
       "1461155             0.0  "
      ]
     },
     "execution_count": 291,
     "metadata": {},
     "output_type": "execute_result"
    }
   ],
   "source": [
    "# Simplify the data to the state and relevant column\n",
    "# County name will not be included because we're just looking at the state trends overall\n",
    "\n",
    "texas_dataset = super_dataset[super_dataset['State'] == 'TX']\n",
    "texas_dataset = texas_dataset[['State', 'date', 'confirmed', 'deaths', 'population', 'cases per day', 'deaths per day']]\n",
    "texas_dataset.head()"
   ]
  },
  {
   "cell_type": "code",
   "execution_count": 292,
   "id": "873fd4b8",
   "metadata": {
    "scrolled": true
   },
   "outputs": [
    {
     "data": {
      "text/html": [
       "<div>\n",
       "<style scoped>\n",
       "    .dataframe tbody tr th:only-of-type {\n",
       "        vertical-align: middle;\n",
       "    }\n",
       "\n",
       "    .dataframe tbody tr th {\n",
       "        vertical-align: top;\n",
       "    }\n",
       "\n",
       "    .dataframe thead th {\n",
       "        text-align: right;\n",
       "    }\n",
       "</style>\n",
       "<table border=\"1\" class=\"dataframe\">\n",
       "  <thead>\n",
       "    <tr style=\"text-align: right;\">\n",
       "      <th></th>\n",
       "      <th>date</th>\n",
       "      <th>cases per week</th>\n",
       "      <th>deaths per week</th>\n",
       "    </tr>\n",
       "  </thead>\n",
       "  <tbody>\n",
       "    <tr>\n",
       "      <th>0</th>\n",
       "      <td>2020-01-26</td>\n",
       "      <td>0.0</td>\n",
       "      <td>0.0</td>\n",
       "    </tr>\n",
       "    <tr>\n",
       "      <th>1</th>\n",
       "      <td>2020-02-02</td>\n",
       "      <td>0.0</td>\n",
       "      <td>0.0</td>\n",
       "    </tr>\n",
       "    <tr>\n",
       "      <th>2</th>\n",
       "      <td>2020-02-09</td>\n",
       "      <td>0.0</td>\n",
       "      <td>0.0</td>\n",
       "    </tr>\n",
       "    <tr>\n",
       "      <th>3</th>\n",
       "      <td>2020-02-16</td>\n",
       "      <td>0.0</td>\n",
       "      <td>0.0</td>\n",
       "    </tr>\n",
       "    <tr>\n",
       "      <th>4</th>\n",
       "      <td>2020-02-23</td>\n",
       "      <td>0.0</td>\n",
       "      <td>0.0</td>\n",
       "    </tr>\n",
       "  </tbody>\n",
       "</table>\n",
       "</div>"
      ],
      "text/plain": [
       "        date  cases per week  deaths per week\n",
       "0 2020-01-26             0.0              0.0\n",
       "1 2020-02-02             0.0              0.0\n",
       "2 2020-02-09             0.0              0.0\n",
       "3 2020-02-16             0.0              0.0\n",
       "4 2020-02-23             0.0              0.0"
      ]
     },
     "execution_count": 292,
     "metadata": {},
     "output_type": "execute_result"
    }
   ],
   "source": [
    "texas_dataset = texas_dataset.groupby([pd.Grouper(key='date', freq='w')])[['cases per day','deaths per day']].agg({'cases per day':'sum','deaths per day' :'sum'}).reset_index()\n",
    "texas_dataset = texas_dataset.rename(columns={'cases per day': 'cases per week', 'deaths per day': 'deaths per week'})\n",
    "texas_dataset.head()"
   ]
  },
  {
   "cell_type": "markdown",
   "id": "6c631371",
   "metadata": {},
   "source": [
    "* Generate weekly statistics (mean, median, mode) for number of new cases and deaths across a specific state."
   ]
  },
  {
   "cell_type": "code",
   "execution_count": 293,
   "id": "854528bc",
   "metadata": {
    "scrolled": true
   },
   "outputs": [
    {
     "name": "stdout",
     "output_type": "stream",
     "text": [
      "Confirmed in Texas\n",
      "mean: 40118.1686746988\n",
      "median: 26807.0\n",
      "mode 0    0.0\n",
      "dtype: float64\n"
     ]
    }
   ],
   "source": [
    "df_mean_cases = texas_dataset[\"cases per week\"].mean()\n",
    "df_median_cases = texas_dataset[\"cases per week\"].median()\n",
    "df_mode_cases = texas_dataset[\"cases per week\"].mode()\n",
    "print(\"Confirmed in Texas\")\n",
    "print(\"mean:\", df_mean_cases)\n",
    "print(\"median:\", df_median_cases)\n",
    "print(\"mode\", df_mode_cases)"
   ]
  },
  {
   "cell_type": "code",
   "execution_count": 294,
   "id": "fc11a062",
   "metadata": {
    "scrolled": true
   },
   "outputs": [
    {
     "name": "stdout",
     "output_type": "stream",
     "text": [
      "Deaths in Texas:\n",
      "mean: 639.5301204819277\n",
      "median: 400.0\n",
      "mode 0    0.0\n",
      "dtype: float64\n"
     ]
    }
   ],
   "source": [
    "df_mean_deaths = texas_dataset[\"deaths per week\"].mean()\n",
    "df_median_deaths = texas_dataset[\"deaths per week\"].median()\n",
    "df_mode_deaths = texas_dataset[\"deaths per week\"].mode()\n",
    "print(\"Deaths in Texas:\")\n",
    "print(\"mean:\", df_mean_deaths)\n",
    "print(\"median:\", df_median_deaths)\n",
    "print(\"mode\", df_mode_deaths)"
   ]
  },
  {
   "cell_type": "markdown",
   "id": "2ce15fbe",
   "metadata": {},
   "source": [
    "* Compare the data against other states. (normalize by population)"
   ]
  },
  {
   "cell_type": "code",
   "execution_count": 295,
   "id": "3470f1ae",
   "metadata": {
    "scrolled": true
   },
   "outputs": [
    {
     "data": {
      "text/html": [
       "<div>\n",
       "<style scoped>\n",
       "    .dataframe tbody tr th:only-of-type {\n",
       "        vertical-align: middle;\n",
       "    }\n",
       "\n",
       "    .dataframe tbody tr th {\n",
       "        vertical-align: top;\n",
       "    }\n",
       "\n",
       "    .dataframe thead th {\n",
       "        text-align: right;\n",
       "    }\n",
       "</style>\n",
       "<table border=\"1\" class=\"dataframe\">\n",
       "  <thead>\n",
       "    <tr style=\"text-align: right;\">\n",
       "      <th></th>\n",
       "      <th>countyFIPS</th>\n",
       "      <th>County Name</th>\n",
       "      <th>State</th>\n",
       "      <th>date</th>\n",
       "      <th>confirmed</th>\n",
       "      <th>deaths</th>\n",
       "      <th>population</th>\n",
       "      <th>cases per day</th>\n",
       "      <th>deaths per day</th>\n",
       "      <th>normalized cases</th>\n",
       "      <th>normalized deaths</th>\n",
       "    </tr>\n",
       "  </thead>\n",
       "  <tbody>\n",
       "    <tr>\n",
       "      <th>574</th>\n",
       "      <td>1001</td>\n",
       "      <td>autauga county</td>\n",
       "      <td>AL</td>\n",
       "      <td>2020-01-23</td>\n",
       "      <td>0</td>\n",
       "      <td>0</td>\n",
       "      <td>55869</td>\n",
       "      <td>0.0</td>\n",
       "      <td>0.0</td>\n",
       "      <td>0.0</td>\n",
       "      <td>0.0</td>\n",
       "    </tr>\n",
       "    <tr>\n",
       "      <th>575</th>\n",
       "      <td>1001</td>\n",
       "      <td>autauga county</td>\n",
       "      <td>AL</td>\n",
       "      <td>2020-01-24</td>\n",
       "      <td>0</td>\n",
       "      <td>0</td>\n",
       "      <td>55869</td>\n",
       "      <td>0.0</td>\n",
       "      <td>0.0</td>\n",
       "      <td>0.0</td>\n",
       "      <td>0.0</td>\n",
       "    </tr>\n",
       "    <tr>\n",
       "      <th>576</th>\n",
       "      <td>1001</td>\n",
       "      <td>autauga county</td>\n",
       "      <td>AL</td>\n",
       "      <td>2020-01-25</td>\n",
       "      <td>0</td>\n",
       "      <td>0</td>\n",
       "      <td>55869</td>\n",
       "      <td>0.0</td>\n",
       "      <td>0.0</td>\n",
       "      <td>0.0</td>\n",
       "      <td>0.0</td>\n",
       "    </tr>\n",
       "    <tr>\n",
       "      <th>577</th>\n",
       "      <td>1001</td>\n",
       "      <td>autauga county</td>\n",
       "      <td>AL</td>\n",
       "      <td>2020-01-26</td>\n",
       "      <td>0</td>\n",
       "      <td>0</td>\n",
       "      <td>55869</td>\n",
       "      <td>0.0</td>\n",
       "      <td>0.0</td>\n",
       "      <td>0.0</td>\n",
       "      <td>0.0</td>\n",
       "    </tr>\n",
       "    <tr>\n",
       "      <th>578</th>\n",
       "      <td>1001</td>\n",
       "      <td>autauga county</td>\n",
       "      <td>AL</td>\n",
       "      <td>2020-01-27</td>\n",
       "      <td>0</td>\n",
       "      <td>0</td>\n",
       "      <td>55869</td>\n",
       "      <td>0.0</td>\n",
       "      <td>0.0</td>\n",
       "      <td>0.0</td>\n",
       "      <td>0.0</td>\n",
       "    </tr>\n",
       "  </tbody>\n",
       "</table>\n",
       "</div>"
      ],
      "text/plain": [
       "     countyFIPS     County Name State       date  confirmed  deaths  \\\n",
       "574        1001  autauga county    AL 2020-01-23          0       0   \n",
       "575        1001  autauga county    AL 2020-01-24          0       0   \n",
       "576        1001  autauga county    AL 2020-01-25          0       0   \n",
       "577        1001  autauga county    AL 2020-01-26          0       0   \n",
       "578        1001  autauga county    AL 2020-01-27          0       0   \n",
       "\n",
       "     population  cases per day  deaths per day  normalized cases  \\\n",
       "574       55869            0.0             0.0               0.0   \n",
       "575       55869            0.0             0.0               0.0   \n",
       "576       55869            0.0             0.0               0.0   \n",
       "577       55869            0.0             0.0               0.0   \n",
       "578       55869            0.0             0.0               0.0   \n",
       "\n",
       "     normalized deaths  \n",
       "574                0.0  \n",
       "575                0.0  \n",
       "576                0.0  \n",
       "577                0.0  \n",
       "578                0.0  "
      ]
     },
     "execution_count": 295,
     "metadata": {},
     "output_type": "execute_result"
    }
   ],
   "source": [
    "# normalize the super dataset\n",
    "super_dataset['normalized cases']= (super_dataset['cases per day']/super_dataset['population'])*100000\n",
    "super_dataset['normalized deaths']= (super_dataset['deaths per day']/super_dataset['population'])*100000\n",
    "super_dataset.head()"
   ]
  },
  {
   "cell_type": "code",
   "execution_count": 296,
   "id": "7f81b6fe",
   "metadata": {
    "scrolled": true
   },
   "outputs": [],
   "source": [
    "# choose 5 other states to compare with \n",
    "\n",
    "# Normalized Texas\n",
    "n_tx_dataset = super_dataset[super_dataset['State'] == 'TX']\n",
    "n_tx_dataset = n_tx_dataset[['State', 'date', 'confirmed', 'deaths', 'population', 'normalized cases', 'normalized deaths']]\n",
    "\n",
    "# North Carolina\n",
    "nc_dataset = super_dataset[super_dataset['State'] == 'NC']\n",
    "nc_dataset = nc_dataset[['State', 'date', 'confirmed', 'deaths', 'population', 'normalized cases', 'normalized deaths']]\n",
    "\n",
    "# California\n",
    "ca_dataset = super_dataset[super_dataset['State'] == 'CA']\n",
    "ca_dataset = ca_dataset[['State', 'date', 'confirmed', 'deaths', 'population', 'normalized cases', 'normalized deaths']]\n",
    "\n",
    "# Florida\n",
    "fl_dataset = super_dataset[super_dataset['State'] == 'FL']\n",
    "fl_dataset = fl_dataset[['State', 'date', 'confirmed', 'deaths', 'population', 'normalized cases', 'normalized deaths']]\n",
    "\n",
    "# New York\n",
    "ny_dataset = super_dataset[super_dataset['State'] == 'NY']\n",
    "ny_dataset = ny_dataset[['State', 'date', 'confirmed', 'deaths', 'population', 'normalized cases', 'normalized deaths']]\n",
    "\n",
    "# Pennsylvania\n",
    "pa_dataset = super_dataset[super_dataset['State'] == 'PA']\n",
    "pa_dataset = pa_dataset[['State', 'date', 'confirmed', 'deaths', 'population', 'normalized cases', 'normalized deaths']]\n"
   ]
  },
  {
   "cell_type": "code",
   "execution_count": 297,
   "id": "f53b661b",
   "metadata": {},
   "outputs": [],
   "source": [
    "# group each of the 5 states by week\n",
    "\n",
    "# Normalized Texas\n",
    "n_tx_dataset = n_tx_dataset.groupby([pd.Grouper(key='date', freq='w')])[['normalized cases','normalized deaths']].agg({'normalized cases':'sum','normalized deaths' :'sum'}).reset_index()\n",
    "n_tx_dataset = n_tx_dataset.rename(columns={'normalized cases': 'cases per week', 'normalized deaths': 'deaths per week'})\n",
    "\n",
    "# North Carolina\n",
    "nc_dataset = nc_dataset.groupby([pd.Grouper(key='date', freq='w')])[['normalized cases','normalized deaths']].agg({'normalized cases':'sum','normalized deaths' :'sum'}).reset_index()\n",
    "nc_dataset = nc_dataset.rename(columns={'normalized cases': 'cases per week', 'normalized deaths': 'deaths per week'})\n",
    "\n",
    "# California\n",
    "ca_dataset = ca_dataset.groupby([pd.Grouper(key='date', freq='w')])[['normalized cases','normalized deaths']].agg({'normalized cases':'sum','normalized deaths' :'sum'}).reset_index()\n",
    "ca_dataset = ca_dataset.rename(columns={'normalized cases': 'cases per week', 'normalized deaths': 'deaths per week'})\n",
    "\n",
    "# Florida\n",
    "fl_dataset = fl_dataset.groupby([pd.Grouper(key='date', freq='w')])[['normalized cases','normalized deaths']].agg({'normalized cases':'sum','normalized deaths' :'sum'}).reset_index()\n",
    "fl_dataset = fl_dataset.rename(columns={'normalized cases': 'cases per week', 'normalized deaths': 'deaths per week'})\n",
    "\n",
    "# New York\n",
    "ny_dataset = ny_dataset.groupby([pd.Grouper(key='date', freq='w')])[['normalized cases','normalized deaths']].agg({'normalized cases':'sum','normalized deaths' :'sum'}).reset_index()\n",
    "ny_dataset = ny_dataset.rename(columns={'normalized cases': 'cases per week', 'normalized deaths': 'deaths per week'})\n",
    "\n",
    "# Pennsylvania\n",
    "pa_dataset = pa_dataset.groupby([pd.Grouper(key='date', freq='w')])[['normalized cases','normalized deaths']].agg({'normalized cases':'sum','normalized deaths' :'sum'}).reset_index()\n",
    "pa_dataset = pa_dataset.rename(columns={'normalized cases': 'cases per week', 'normalized deaths': 'deaths per week'})\n"
   ]
  },
  {
   "cell_type": "code",
   "execution_count": 298,
   "id": "132e7dce",
   "metadata": {
    "scrolled": true
   },
   "outputs": [
    {
     "name": "stdout",
     "output_type": "stream",
     "text": [
      "Confirmed in North Carolina\n",
      "mean: 12946.19745753378\n",
      "median: 9798.089882371994\n",
      "mode: 0    0.0\n",
      "dtype: float64\n",
      "\n",
      "Deaths in North Carolina:\n",
      "mean: 196.49888739075416\n",
      "median: 128.99305027374174\n",
      "mode: 0    0.0\n",
      "dtype: float64\n"
     ]
    }
   ],
   "source": [
    "nc_mean_cases = nc_dataset[\"cases per week\"].mean()\n",
    "nc_median_cases = nc_dataset[\"cases per week\"].median()\n",
    "nc_mode_cases = nc_dataset[\"cases per week\"].mode()\n",
    "print(\"Confirmed in North Carolina\")\n",
    "print(\"mean:\", nc_mean_cases)\n",
    "print(\"median:\", nc_median_cases)\n",
    "print(\"mode:\", nc_mode_cases)\n",
    "print()\n",
    "nc_mean_deaths = nc_dataset[\"deaths per week\"].mean()\n",
    "nc_median_deaths = nc_dataset[\"deaths per week\"].median()\n",
    "nc_mode_deaths = nc_dataset[\"deaths per week\"].mode()\n",
    "print(\"Deaths in North Carolina:\")\n",
    "print(\"mean:\", nc_mean_deaths)\n",
    "print(\"median:\", nc_median_deaths)\n",
    "print(\"mode:\", nc_mode_deaths)"
   ]
  },
  {
   "cell_type": "code",
   "execution_count": 299,
   "id": "2b170bf4",
   "metadata": {
    "scrolled": false
   },
   "outputs": [
    {
     "name": "stdout",
     "output_type": "stream",
     "text": [
      "Confirmed in California\n",
      "mean: 5939.060634512574\n",
      "median: 2757.9687074428452\n",
      "mode: 0.04145024517422976\n",
      "\n",
      "Deaths in California:\n",
      "mean: 73.64348813867585\n",
      "median: 44.86211295336464\n",
      "mode: 0    0.0\n",
      "dtype: float64\n"
     ]
    }
   ],
   "source": [
    "ca_mean_cases = ca_dataset[\"cases per week\"].mean()\n",
    "ca_median_cases = ca_dataset[\"cases per week\"].median()\n",
    "ca_mode_cases = ca_dataset.mode()['cases per week'][0]\n",
    "print(\"Confirmed in California\")\n",
    "print(\"mean:\", ca_mean_cases)\n",
    "print(\"median:\", ca_median_cases)\n",
    "print(\"mode:\", ca_mode_cases)\n",
    "print()\n",
    "ca_mean_deaths = ca_dataset[\"deaths per week\"].mean()\n",
    "ca_median_deaths = ca_dataset[\"deaths per week\"].median()\n",
    "ca_mode_deaths = ca_dataset[\"deaths per week\"].mode()\n",
    "print(\"Deaths in California:\")\n",
    "print(\"mean:\", ca_mean_deaths)\n",
    "print(\"median:\", ca_median_deaths)\n",
    "print(\"mode:\", ca_mode_deaths)\n"
   ]
  },
  {
   "cell_type": "code",
   "execution_count": 300,
   "id": "d084e71d",
   "metadata": {
    "scrolled": true
   },
   "outputs": [
    {
     "name": "stdout",
     "output_type": "stream",
     "text": [
      "Confirmed in Florida\n",
      "mean: 10399.20663814489\n",
      "median: 7300.350245133687\n",
      "mode: 0    0.0\n",
      "dtype: float64\n",
      "\n",
      "Deaths in Florida:\n",
      "mean: 159.3925882088628\n",
      "median: 111.90862133451061\n",
      "mode: 0    0.0\n",
      "dtype: float64\n"
     ]
    }
   ],
   "source": [
    "fl_mean_cases = fl_dataset[\"cases per week\"].mean()\n",
    "fl_median_cases = fl_dataset[\"cases per week\"].median()\n",
    "fl_mode_cases = fl_dataset[\"cases per week\"].mode()\n",
    "print(\"Confirmed in Florida\")\n",
    "print(\"mean:\", fl_mean_cases)\n",
    "print(\"median:\", fl_median_cases)\n",
    "print(\"mode:\", fl_mode_cases)\n",
    "print()\n",
    "fl_mean_deaths = fl_dataset[\"deaths per week\"].mean()\n",
    "fl_median_deaths = fl_dataset[\"deaths per week\"].median()\n",
    "fl_mode_deaths = fl_dataset[\"deaths per week\"].mode()\n",
    "print(\"Deaths in Florida:\")\n",
    "print(\"mean:\", fl_mean_deaths)\n",
    "print(\"median:\", fl_median_deaths)\n",
    "print(\"mode:\", fl_mode_deaths)"
   ]
  },
  {
   "cell_type": "code",
   "execution_count": 301,
   "id": "4a336f5b",
   "metadata": {
    "scrolled": true
   },
   "outputs": [
    {
     "name": "stdout",
     "output_type": "stream",
     "text": [
      "Confirmed in New York\n",
      "mean: 6467.085411212127\n",
      "median: 3175.100089037888\n",
      "mode: 0    0.0\n",
      "dtype: float64\n",
      "\n",
      "Deaths in New York:\n",
      "mean: 117.00698739527431\n",
      "median: 45.77280635911807\n",
      "mode: 0    0.0\n",
      "dtype: float64\n"
     ]
    }
   ],
   "source": [
    "ny_mean_cases = ny_dataset[\"cases per week\"].mean()\n",
    "ny_median_cases = ny_dataset[\"cases per week\"].median()\n",
    "ny_mode_cases = ny_dataset[\"cases per week\"].mode()\n",
    "print(\"Confirmed in New York\")\n",
    "print(\"mean:\", ny_mean_cases)\n",
    "print(\"median:\", ny_median_cases)\n",
    "print(\"mode:\", ny_mode_cases)\n",
    "print()\n",
    "ny_mean_deaths = ny_dataset[\"deaths per week\"].mean()\n",
    "ny_median_deaths = ny_dataset[\"deaths per week\"].median()\n",
    "ny_mode_deaths = ny_dataset[\"deaths per week\"].mode()\n",
    "print(\"Deaths in New York:\")\n",
    "print(\"mean:\", ny_mean_deaths)\n",
    "print(\"median:\", ny_median_deaths)\n",
    "print(\"mode:\", ny_mode_deaths)"
   ]
  },
  {
   "cell_type": "code",
   "execution_count": 302,
   "id": "c255bb77",
   "metadata": {
    "scrolled": true
   },
   "outputs": [
    {
     "name": "stdout",
     "output_type": "stream",
     "text": [
      "Confirmed in Pennsylvania\n",
      "mean: 7917.529425872122\n",
      "median: 2722.097410606196\n",
      "mode: 0    0.0\n",
      "dtype: float64\n",
      "\n",
      "Deaths in Pennsylvania:\n",
      "mean: 184.41533083944657\n",
      "median: 84.41152869734121\n",
      "mode: 0    0.0\n",
      "dtype: float64\n"
     ]
    }
   ],
   "source": [
    "pa_mean_cases = pa_dataset[\"cases per week\"].mean()\n",
    "pa_median_cases = pa_dataset[\"cases per week\"].median()\n",
    "pa_mode_cases = pa_dataset[\"cases per week\"].mode()\n",
    "print(\"Confirmed in Pennsylvania\")\n",
    "print(\"mean:\", pa_mean_cases)\n",
    "print(\"median:\", pa_median_cases)\n",
    "print(\"mode:\", pa_mode_cases)\n",
    "print()\n",
    "pa_mean_deaths = pa_dataset[\"deaths per week\"].mean()\n",
    "pa_median_deaths = pa_dataset[\"deaths per week\"].median()\n",
    "pa_mode_deaths = pa_dataset[\"deaths per week\"].mode()\n",
    "print(\"Deaths in Pennsylvania:\")\n",
    "print(\"mean:\", pa_mean_deaths)\n",
    "print(\"median:\", pa_median_deaths)\n",
    "print(\"mode:\", pa_mode_deaths)"
   ]
  },
  {
   "cell_type": "code",
   "execution_count": 303,
   "id": "955d7d77",
   "metadata": {
    "scrolled": true
   },
   "outputs": [
    {
     "name": "stdout",
     "output_type": "stream",
     "text": [
      "Confirmed in Texas\n",
      "mean: 35863.92134782459\n",
      "median: 21992.22401418823\n",
      "mode: 0    0.0\n",
      "dtype: float64\n",
      "\n",
      "Deaths in Texas:\n",
      "mean: 863.0105280239087\n",
      "median: 446.68439353408485\n",
      "mode: 0    0.0\n",
      "dtype: float64\n"
     ]
    }
   ],
   "source": [
    "n_tx_mean_cases = n_tx_dataset[\"cases per week\"].mean()\n",
    "n_tx_median_cases = n_tx_dataset[\"cases per week\"].median()\n",
    "n_tx_mode_cases = n_tx_dataset[\"cases per week\"].mode()\n",
    "print(\"Confirmed in Texas\")\n",
    "print(\"mean:\", n_tx_mean_cases)\n",
    "print(\"median:\", n_tx_median_cases)\n",
    "print(\"mode:\", n_tx_mode_cases)\n",
    "print()\n",
    "n_tx_mean_deaths = n_tx_dataset[\"deaths per week\"].mean()\n",
    "n_tx_median_deaths = n_tx_dataset[\"deaths per week\"].median()\n",
    "n_tx_mode_deaths = n_tx_dataset[\"deaths per week\"].mode()\n",
    "print(\"Deaths in Texas:\")\n",
    "print(\"mean:\", n_tx_mean_deaths)\n",
    "print(\"median:\", n_tx_median_deaths)\n",
    "print(\"mode:\", n_tx_mode_deaths)"
   ]
  },
  {
   "cell_type": "code",
   "execution_count": 304,
   "id": "8c7f6a96",
   "metadata": {
    "scrolled": true
   },
   "outputs": [
    {
     "name": "stdout",
     "output_type": "stream",
     "text": [
      "Cases\n",
      "-----  -----  ------  ----\n",
      "state  mean   median  mode\n",
      "TX     35863  21992   0\n",
      "NC     12946  9798    0\n",
      "CA     5939   2757    0\n",
      "FL     10399  7300    0\n",
      "NY     6467   3175    0\n",
      "PA     7917   2722    0\n",
      "-----  -----  ------  ----\n"
     ]
    }
   ],
   "source": [
    "# compare cases per week by states\n",
    "table = [['state','mean', 'median', 'mode'],['TX',35863,21992,0],['NC', 12946,9798,0], ['CA',5939,2757,0],['FL', 10399,7300,0],['NY',6467,3175,0],['PA',7917,2722,0]]\n",
    "print(\"Cases\")\n",
    "print(tabulate(table))"
   ]
  },
  {
   "cell_type": "code",
   "execution_count": 305,
   "id": "6eb6f1d1",
   "metadata": {
    "scrolled": true
   },
   "outputs": [
    {
     "name": "stdout",
     "output_type": "stream",
     "text": [
      "Deaths\n",
      "-----  ----  ------  ----\n",
      "state  mean  median  mode\n",
      "TX     863   446     0\n",
      "NC     196   128     0\n",
      "CA     73    44      0\n",
      "FL     159   111     0\n",
      "NY     117   45      0\n",
      "PA     184   84      0\n",
      "-----  ----  ------  ----\n"
     ]
    }
   ],
   "source": [
    "# compare cases per week by states\n",
    "table = [['state','mean', 'median', 'mode'],['TX',863,446,0],['NC', 196,128,0], ['CA',73,44,0],['FL', 159,111,0],['NY',117,45,0],['PA',184,84,0]]\n",
    "print(\"Deaths\")\n",
    "print(tabulate(table))"
   ]
  },
  {
   "cell_type": "markdown",
   "id": "a6fe1445",
   "metadata": {},
   "source": [
    "* Identify counties within the previous state with high case and death rates. (normalize by population)"
   ]
  },
  {
   "cell_type": "code",
   "execution_count": 306,
   "id": "618434d4",
   "metadata": {
    "scrolled": true
   },
   "outputs": [
    {
     "data": {
      "text/html": [
       "<div>\n",
       "<style scoped>\n",
       "    .dataframe tbody tr th:only-of-type {\n",
       "        vertical-align: middle;\n",
       "    }\n",
       "\n",
       "    .dataframe tbody tr th {\n",
       "        vertical-align: top;\n",
       "    }\n",
       "\n",
       "    .dataframe thead th {\n",
       "        text-align: right;\n",
       "    }\n",
       "</style>\n",
       "<table border=\"1\" class=\"dataframe\">\n",
       "  <thead>\n",
       "    <tr style=\"text-align: right;\">\n",
       "      <th></th>\n",
       "      <th>State</th>\n",
       "      <th>County Name</th>\n",
       "      <th>date</th>\n",
       "      <th>confirmed</th>\n",
       "      <th>deaths</th>\n",
       "      <th>population</th>\n",
       "      <th>normalized cases</th>\n",
       "      <th>normalized deaths</th>\n",
       "    </tr>\n",
       "  </thead>\n",
       "  <tbody>\n",
       "    <tr>\n",
       "      <th>1461151</th>\n",
       "      <td>TX</td>\n",
       "      <td>anderson county</td>\n",
       "      <td>2020-01-23</td>\n",
       "      <td>0</td>\n",
       "      <td>0</td>\n",
       "      <td>57735</td>\n",
       "      <td>0.0</td>\n",
       "      <td>0.0</td>\n",
       "    </tr>\n",
       "    <tr>\n",
       "      <th>1461152</th>\n",
       "      <td>TX</td>\n",
       "      <td>anderson county</td>\n",
       "      <td>2020-01-24</td>\n",
       "      <td>0</td>\n",
       "      <td>0</td>\n",
       "      <td>57735</td>\n",
       "      <td>0.0</td>\n",
       "      <td>0.0</td>\n",
       "    </tr>\n",
       "    <tr>\n",
       "      <th>1461153</th>\n",
       "      <td>TX</td>\n",
       "      <td>anderson county</td>\n",
       "      <td>2020-01-25</td>\n",
       "      <td>0</td>\n",
       "      <td>0</td>\n",
       "      <td>57735</td>\n",
       "      <td>0.0</td>\n",
       "      <td>0.0</td>\n",
       "    </tr>\n",
       "    <tr>\n",
       "      <th>1461154</th>\n",
       "      <td>TX</td>\n",
       "      <td>anderson county</td>\n",
       "      <td>2020-01-26</td>\n",
       "      <td>0</td>\n",
       "      <td>0</td>\n",
       "      <td>57735</td>\n",
       "      <td>0.0</td>\n",
       "      <td>0.0</td>\n",
       "    </tr>\n",
       "    <tr>\n",
       "      <th>1461155</th>\n",
       "      <td>TX</td>\n",
       "      <td>anderson county</td>\n",
       "      <td>2020-01-27</td>\n",
       "      <td>0</td>\n",
       "      <td>0</td>\n",
       "      <td>57735</td>\n",
       "      <td>0.0</td>\n",
       "      <td>0.0</td>\n",
       "    </tr>\n",
       "  </tbody>\n",
       "</table>\n",
       "</div>"
      ],
      "text/plain": [
       "        State      County Name       date  confirmed  deaths  population  \\\n",
       "1461151    TX  anderson county 2020-01-23          0       0       57735   \n",
       "1461152    TX  anderson county 2020-01-24          0       0       57735   \n",
       "1461153    TX  anderson county 2020-01-25          0       0       57735   \n",
       "1461154    TX  anderson county 2020-01-26          0       0       57735   \n",
       "1461155    TX  anderson county 2020-01-27          0       0       57735   \n",
       "\n",
       "         normalized cases  normalized deaths  \n",
       "1461151               0.0                0.0  \n",
       "1461152               0.0                0.0  \n",
       "1461153               0.0                0.0  \n",
       "1461154               0.0                0.0  \n",
       "1461155               0.0                0.0  "
      ]
     },
     "execution_count": 306,
     "metadata": {},
     "output_type": "execute_result"
    }
   ],
   "source": [
    "texas_dataset_2 = super_dataset[super_dataset['State'] == 'TX']\n",
    "texas_dataset_2 = texas_dataset_2[['State', 'County Name','date', 'confirmed', 'deaths', 'population', 'normalized cases', 'normalized deaths']]\n",
    "texas_dataset_2.head()"
   ]
  },
  {
   "cell_type": "code",
   "execution_count": 307,
   "id": "26e072db",
   "metadata": {
    "scrolled": true
   },
   "outputs": [],
   "source": [
    "# counties by mean cases & deaths\n",
    "texas_dataset_2 = texas_dataset_2.groupby(['County Name'])[['normalized cases','normalized deaths']].agg({'normalized cases':'mean','normalized deaths' :'mean'}).round(decimals=0)"
   ]
  },
  {
   "cell_type": "code",
   "execution_count": 308,
   "id": "f1e96a6e",
   "metadata": {
    "scrolled": true
   },
   "outputs": [
    {
     "data": {
      "text/html": [
       "<div>\n",
       "<style scoped>\n",
       "    .dataframe tbody tr th:only-of-type {\n",
       "        vertical-align: middle;\n",
       "    }\n",
       "\n",
       "    .dataframe tbody tr th {\n",
       "        vertical-align: top;\n",
       "    }\n",
       "\n",
       "    .dataframe thead th {\n",
       "        text-align: right;\n",
       "    }\n",
       "</style>\n",
       "<table border=\"1\" class=\"dataframe\">\n",
       "  <thead>\n",
       "    <tr style=\"text-align: right;\">\n",
       "      <th></th>\n",
       "      <th>County Name</th>\n",
       "      <th>normalized cases</th>\n",
       "      <th>normalized deaths</th>\n",
       "    </tr>\n",
       "  </thead>\n",
       "  <tbody>\n",
       "    <tr>\n",
       "      <th>0</th>\n",
       "      <td>dimmit county</td>\n",
       "      <td>56.0</td>\n",
       "      <td>1.0</td>\n",
       "    </tr>\n",
       "    <tr>\n",
       "      <th>1</th>\n",
       "      <td>concho county</td>\n",
       "      <td>38.0</td>\n",
       "      <td>1.0</td>\n",
       "    </tr>\n",
       "    <tr>\n",
       "      <th>2</th>\n",
       "      <td>lamb county</td>\n",
       "      <td>36.0</td>\n",
       "      <td>1.0</td>\n",
       "    </tr>\n",
       "    <tr>\n",
       "      <th>3</th>\n",
       "      <td>hale county</td>\n",
       "      <td>34.0</td>\n",
       "      <td>1.0</td>\n",
       "    </tr>\n",
       "    <tr>\n",
       "      <th>4</th>\n",
       "      <td>maverick county</td>\n",
       "      <td>34.0</td>\n",
       "      <td>1.0</td>\n",
       "    </tr>\n",
       "    <tr>\n",
       "      <th>...</th>\n",
       "      <td>...</td>\n",
       "      <td>...</td>\n",
       "      <td>...</td>\n",
       "    </tr>\n",
       "    <tr>\n",
       "      <th>249</th>\n",
       "      <td>borden county</td>\n",
       "      <td>9.0</td>\n",
       "      <td>1.0</td>\n",
       "    </tr>\n",
       "    <tr>\n",
       "      <th>250</th>\n",
       "      <td>throckmorton county</td>\n",
       "      <td>9.0</td>\n",
       "      <td>1.0</td>\n",
       "    </tr>\n",
       "    <tr>\n",
       "      <th>251</th>\n",
       "      <td>newton county</td>\n",
       "      <td>9.0</td>\n",
       "      <td>0.0</td>\n",
       "    </tr>\n",
       "    <tr>\n",
       "      <th>252</th>\n",
       "      <td>king county</td>\n",
       "      <td>7.0</td>\n",
       "      <td>0.0</td>\n",
       "    </tr>\n",
       "    <tr>\n",
       "      <th>253</th>\n",
       "      <td>loving county</td>\n",
       "      <td>5.0</td>\n",
       "      <td>0.0</td>\n",
       "    </tr>\n",
       "  </tbody>\n",
       "</table>\n",
       "<p>254 rows × 3 columns</p>\n",
       "</div>"
      ],
      "text/plain": [
       "             County Name  normalized cases  normalized deaths\n",
       "0          dimmit county              56.0                1.0\n",
       "1          concho county              38.0                1.0\n",
       "2            lamb county              36.0                1.0\n",
       "3            hale county              34.0                1.0\n",
       "4        maverick county              34.0                1.0\n",
       "..                   ...               ...                ...\n",
       "249        borden county               9.0                1.0\n",
       "250  throckmorton county               9.0                1.0\n",
       "251        newton county               9.0                0.0\n",
       "252          king county               7.0                0.0\n",
       "253        loving county               5.0                0.0\n",
       "\n",
       "[254 rows x 3 columns]"
      ]
     },
     "execution_count": 308,
     "metadata": {},
     "output_type": "execute_result"
    }
   ],
   "source": [
    "# sort by highest numbers in county\n",
    "texas_dataset_2.sort_values([\"normalized cases\", \"normalized deaths\"], ascending = (False, False)).reset_index()"
   ]
  },
  {
   "cell_type": "markdown",
   "id": "2456dcb7",
   "metadata": {},
   "source": [
    "* Plot daily trends (new cases and deaths) of state and top 5 infected counties. Utilize aggregrate, normalized by population, and log normalized values."
   ]
  },
  {
   "cell_type": "code",
   "execution_count": 309,
   "id": "62f41274",
   "metadata": {
    "scrolled": false
   },
   "outputs": [
    {
     "data": {
      "text/html": [
       "<div>\n",
       "<style scoped>\n",
       "    .dataframe tbody tr th:only-of-type {\n",
       "        vertical-align: middle;\n",
       "    }\n",
       "\n",
       "    .dataframe tbody tr th {\n",
       "        vertical-align: top;\n",
       "    }\n",
       "\n",
       "    .dataframe thead th {\n",
       "        text-align: right;\n",
       "    }\n",
       "</style>\n",
       "<table border=\"1\" class=\"dataframe\">\n",
       "  <thead>\n",
       "    <tr style=\"text-align: right;\">\n",
       "      <th></th>\n",
       "      <th>State</th>\n",
       "      <th>County Name</th>\n",
       "      <th>date</th>\n",
       "      <th>normalized cases</th>\n",
       "      <th>normalized deaths</th>\n",
       "    </tr>\n",
       "  </thead>\n",
       "  <tbody>\n",
       "    <tr>\n",
       "      <th>1488082</th>\n",
       "      <td>TX</td>\n",
       "      <td>concho county</td>\n",
       "      <td>2020-01-23</td>\n",
       "      <td>0.0</td>\n",
       "      <td>0.0</td>\n",
       "    </tr>\n",
       "    <tr>\n",
       "      <th>1488083</th>\n",
       "      <td>TX</td>\n",
       "      <td>concho county</td>\n",
       "      <td>2020-01-24</td>\n",
       "      <td>0.0</td>\n",
       "      <td>0.0</td>\n",
       "    </tr>\n",
       "    <tr>\n",
       "      <th>1488084</th>\n",
       "      <td>TX</td>\n",
       "      <td>concho county</td>\n",
       "      <td>2020-01-25</td>\n",
       "      <td>0.0</td>\n",
       "      <td>0.0</td>\n",
       "    </tr>\n",
       "    <tr>\n",
       "      <th>1488085</th>\n",
       "      <td>TX</td>\n",
       "      <td>concho county</td>\n",
       "      <td>2020-01-26</td>\n",
       "      <td>0.0</td>\n",
       "      <td>0.0</td>\n",
       "    </tr>\n",
       "    <tr>\n",
       "      <th>1488086</th>\n",
       "      <td>TX</td>\n",
       "      <td>concho county</td>\n",
       "      <td>2020-01-27</td>\n",
       "      <td>0.0</td>\n",
       "      <td>0.0</td>\n",
       "    </tr>\n",
       "  </tbody>\n",
       "</table>\n",
       "</div>"
      ],
      "text/plain": [
       "        State    County Name       date  normalized cases  normalized deaths\n",
       "1488082    TX  concho county 2020-01-23               0.0                0.0\n",
       "1488083    TX  concho county 2020-01-24               0.0                0.0\n",
       "1488084    TX  concho county 2020-01-25               0.0                0.0\n",
       "1488085    TX  concho county 2020-01-26               0.0                0.0\n",
       "1488086    TX  concho county 2020-01-27               0.0                0.0"
      ]
     },
     "execution_count": 309,
     "metadata": {},
     "output_type": "execute_result"
    }
   ],
   "source": [
    "texas_dataset_3 = super_dataset[super_dataset['State'] == 'TX']\n",
    "texas_dataset_3 = texas_dataset_3[['State', 'County Name','date', 'normalized cases', 'normalized deaths']]\n",
    "texas_dataset_3 = texas_dataset_3.loc[(texas_dataset_3['County Name'] == 'dimmit county') | \n",
    "                                      (texas_dataset_3['County Name'] == 'concho county')| \n",
    "                                      (texas_dataset_3['County Name'] == 'lamb county') |\n",
    "                                      (texas_dataset_3['County Name'] == 'hale county') | \n",
    "                                      (texas_dataset_3['County Name'] == 'maverick county')]\n",
    "texas_dataset_3.head()"
   ]
  },
  {
   "cell_type": "markdown",
   "id": "96f3e631",
   "metadata": {},
   "source": [
    "### Task 2: part 1\n",
    "* Fit a distribution to the number of COVID-19 new cases of a state of your choosing.\n",
    "    * Graphically plot the distribution and describe the distribution statistics. If using discrete values, calculate the Probability Mass Function for the individual values or range (if using histogram) and plot that.\n",
    "    * Describe the type of distribution (modality) and its statistics (moments of a distribution - center, variance, skewness, kurtosis) in the report and the notebook.\n",
    "    * Compare the distribution and its statistics to 5 other states of your choosing."
   ]
  },
  {
   "cell_type": "code",
   "execution_count": 310,
   "id": "39bf5372",
   "metadata": {
    "scrolled": true
   },
   "outputs": [
    {
     "data": {
      "text/html": [
       "<div>\n",
       "<style scoped>\n",
       "    .dataframe tbody tr th:only-of-type {\n",
       "        vertical-align: middle;\n",
       "    }\n",
       "\n",
       "    .dataframe tbody tr th {\n",
       "        vertical-align: top;\n",
       "    }\n",
       "\n",
       "    .dataframe thead th {\n",
       "        text-align: right;\n",
       "    }\n",
       "</style>\n",
       "<table border=\"1\" class=\"dataframe\">\n",
       "  <thead>\n",
       "    <tr style=\"text-align: right;\">\n",
       "      <th></th>\n",
       "      <th>date</th>\n",
       "      <th>cases per week</th>\n",
       "      <th>deaths per week</th>\n",
       "    </tr>\n",
       "  </thead>\n",
       "  <tbody>\n",
       "    <tr>\n",
       "      <th>0</th>\n",
       "      <td>2020-01-26</td>\n",
       "      <td>0.0</td>\n",
       "      <td>0.0</td>\n",
       "    </tr>\n",
       "    <tr>\n",
       "      <th>1</th>\n",
       "      <td>2020-02-02</td>\n",
       "      <td>0.0</td>\n",
       "      <td>0.0</td>\n",
       "    </tr>\n",
       "    <tr>\n",
       "      <th>2</th>\n",
       "      <td>2020-02-09</td>\n",
       "      <td>0.0</td>\n",
       "      <td>0.0</td>\n",
       "    </tr>\n",
       "    <tr>\n",
       "      <th>3</th>\n",
       "      <td>2020-02-16</td>\n",
       "      <td>0.0</td>\n",
       "      <td>0.0</td>\n",
       "    </tr>\n",
       "    <tr>\n",
       "      <th>4</th>\n",
       "      <td>2020-02-23</td>\n",
       "      <td>0.0</td>\n",
       "      <td>0.0</td>\n",
       "    </tr>\n",
       "  </tbody>\n",
       "</table>\n",
       "</div>"
      ],
      "text/plain": [
       "        date  cases per week  deaths per week\n",
       "0 2020-01-26             0.0              0.0\n",
       "1 2020-02-02             0.0              0.0\n",
       "2 2020-02-09             0.0              0.0\n",
       "3 2020-02-16             0.0              0.0\n",
       "4 2020-02-23             0.0              0.0"
      ]
     },
     "execution_count": 310,
     "metadata": {},
     "output_type": "execute_result"
    }
   ],
   "source": [
    "n_tx_dataset.head()"
   ]
  },
  {
   "cell_type": "code",
   "execution_count": null,
   "id": "cdca9d06",
   "metadata": {
    "scrolled": true
   },
   "outputs": [],
   "source": []
  },
  {
   "cell_type": "code",
   "execution_count": 311,
   "id": "d669f65a",
   "metadata": {
    "scrolled": false
   },
   "outputs": [
    {
     "ename": "AttributeError",
     "evalue": "'DataFrame' object has no attribute 'cases_per_week'",
     "output_type": "error",
     "traceback": [
      "\u001b[0;31m---------------------------------------------------------------------------\u001b[0m",
      "\u001b[0;31mAttributeError\u001b[0m                            Traceback (most recent call last)",
      "\u001b[0;32m<ipython-input-311-2062fc3c72b4>\u001b[0m in \u001b[0;36m<module>\u001b[0;34m\u001b[0m\n\u001b[0;32m----> 1\u001b[0;31m \u001b[0mn_tx_dataset\u001b[0m\u001b[0;34m.\u001b[0m\u001b[0mcases_per_week\u001b[0m\u001b[0;34m.\u001b[0m\u001b[0mhist\u001b[0m\u001b[0;34m(\u001b[0m\u001b[0mbins\u001b[0m\u001b[0;34m=\u001b[0m\u001b[0;36m10\u001b[0m\u001b[0;34m,\u001b[0m \u001b[0mec\u001b[0m\u001b[0;34m=\u001b[0m\u001b[0;34m'black'\u001b[0m\u001b[0;34m,\u001b[0m \u001b[0mfigsize\u001b[0m\u001b[0;34m=\u001b[0m\u001b[0;34m(\u001b[0m\u001b[0;36m8\u001b[0m\u001b[0;34m,\u001b[0m\u001b[0;36m5\u001b[0m\u001b[0;34m)\u001b[0m\u001b[0;34m)\u001b[0m\u001b[0;34m\u001b[0m\u001b[0;34m\u001b[0m\u001b[0m\n\u001b[0m",
      "\u001b[0;32m~/opt/anaconda3/lib/python3.8/site-packages/pandas/core/generic.py\u001b[0m in \u001b[0;36m__getattr__\u001b[0;34m(self, name)\u001b[0m\n\u001b[1;32m   5463\u001b[0m             \u001b[0;32mif\u001b[0m \u001b[0mself\u001b[0m\u001b[0;34m.\u001b[0m\u001b[0m_info_axis\u001b[0m\u001b[0;34m.\u001b[0m\u001b[0m_can_hold_identifiers_and_holds_name\u001b[0m\u001b[0;34m(\u001b[0m\u001b[0mname\u001b[0m\u001b[0;34m)\u001b[0m\u001b[0;34m:\u001b[0m\u001b[0;34m\u001b[0m\u001b[0;34m\u001b[0m\u001b[0m\n\u001b[1;32m   5464\u001b[0m                 \u001b[0;32mreturn\u001b[0m \u001b[0mself\u001b[0m\u001b[0;34m[\u001b[0m\u001b[0mname\u001b[0m\u001b[0;34m]\u001b[0m\u001b[0;34m\u001b[0m\u001b[0;34m\u001b[0m\u001b[0m\n\u001b[0;32m-> 5465\u001b[0;31m             \u001b[0;32mreturn\u001b[0m \u001b[0mobject\u001b[0m\u001b[0;34m.\u001b[0m\u001b[0m__getattribute__\u001b[0m\u001b[0;34m(\u001b[0m\u001b[0mself\u001b[0m\u001b[0;34m,\u001b[0m \u001b[0mname\u001b[0m\u001b[0;34m)\u001b[0m\u001b[0;34m\u001b[0m\u001b[0;34m\u001b[0m\u001b[0m\n\u001b[0m\u001b[1;32m   5466\u001b[0m \u001b[0;34m\u001b[0m\u001b[0m\n\u001b[1;32m   5467\u001b[0m     \u001b[0;32mdef\u001b[0m \u001b[0m__setattr__\u001b[0m\u001b[0;34m(\u001b[0m\u001b[0mself\u001b[0m\u001b[0;34m,\u001b[0m \u001b[0mname\u001b[0m\u001b[0;34m:\u001b[0m \u001b[0mstr\u001b[0m\u001b[0;34m,\u001b[0m \u001b[0mvalue\u001b[0m\u001b[0;34m)\u001b[0m \u001b[0;34m->\u001b[0m \u001b[0;32mNone\u001b[0m\u001b[0;34m:\u001b[0m\u001b[0;34m\u001b[0m\u001b[0;34m\u001b[0m\u001b[0m\n",
      "\u001b[0;31mAttributeError\u001b[0m: 'DataFrame' object has no attribute 'cases_per_week'"
     ]
    }
   ],
   "source": [
    "n_tx_dataset.cases_per_week.hist(bins=10, ec='black', figsize=(8,5))"
   ]
  },
  {
   "cell_type": "code",
   "execution_count": null,
   "id": "b00ced7a",
   "metadata": {
    "scrolled": true
   },
   "outputs": [],
   "source": [
    "nc_c_var  = nc_dataset[\"cases per week\"].var()\n",
    "nc_c_var"
   ]
  },
  {
   "cell_type": "code",
   "execution_count": null,
   "id": "83a1de64",
   "metadata": {},
   "outputs": [],
   "source": [
    "ca_c_var  = ca_dataset[\"cases per week\"].var()\n",
    "ca_c_var"
   ]
  },
  {
   "cell_type": "code",
   "execution_count": null,
   "id": "baf149c6",
   "metadata": {
    "scrolled": true
   },
   "outputs": [],
   "source": [
    "fl_c_var  = fl_dataset[\"cases per week\"].var()\n",
    "fl_c_var"
   ]
  },
  {
   "cell_type": "code",
   "execution_count": null,
   "id": "96e907bf",
   "metadata": {},
   "outputs": [],
   "source": [
    "ny_c_var  = ny_dataset[\"cases per week\"].var()\n",
    "ny_c_var"
   ]
  },
  {
   "cell_type": "code",
   "execution_count": null,
   "id": "e03aed8c",
   "metadata": {
    "scrolled": true
   },
   "outputs": [],
   "source": [
    "pa_c_var  = pa_dataset[\"cases per week\"].var()\n",
    "pa_c_var"
   ]
  },
  {
   "cell_type": "code",
   "execution_count": null,
   "id": "dd356ac6",
   "metadata": {},
   "outputs": [],
   "source": [
    "texas_c_var  = n_tx_dataset[\"cases per week\"].var()\n",
    "texas_c_var"
   ]
  },
  {
   "cell_type": "code",
   "execution_count": null,
   "id": "35edf1da",
   "metadata": {},
   "outputs": [],
   "source": [
    "texas_c_skew = n_tx_dataset[\"cases per week\"].skew()\n",
    "texas_c_skew "
   ]
  },
  {
   "cell_type": "code",
   "execution_count": null,
   "id": "85d21218",
   "metadata": {},
   "outputs": [],
   "source": [
    "nc_skew = nc_dataset[\"cases per week\"].skew()\n",
    "nc_skew "
   ]
  },
  {
   "cell_type": "code",
   "execution_count": null,
   "id": "d57febd9",
   "metadata": {},
   "outputs": [],
   "source": [
    "ca_skew = ca_dataset[\"cases per week\"].skew()\n",
    "ca_skew "
   ]
  },
  {
   "cell_type": "code",
   "execution_count": null,
   "id": "eab69039",
   "metadata": {},
   "outputs": [],
   "source": [
    "fl_skew = fl_dataset[\"cases per week\"].skew()\n",
    "fl_skew "
   ]
  },
  {
   "cell_type": "code",
   "execution_count": null,
   "id": "0a93520b",
   "metadata": {},
   "outputs": [],
   "source": [
    "ny_skew = ny_dataset[\"cases per week\"].skew()\n",
    "ny_skew "
   ]
  },
  {
   "cell_type": "code",
   "execution_count": null,
   "id": "3cd85af1",
   "metadata": {},
   "outputs": [],
   "source": [
    "pa_skew = nc_dataset[\"cases per week\"].skew()\n",
    "pa_skew "
   ]
  },
  {
   "cell_type": "code",
   "execution_count": null,
   "id": "fa16eec8",
   "metadata": {},
   "outputs": [],
   "source": [
    "texas_c_kurtosis = n_tx_dataset[\"cases per week\"].kurtosis()\n",
    "texas_c_kurtosis "
   ]
  },
  {
   "cell_type": "code",
   "execution_count": null,
   "id": "c816376d",
   "metadata": {},
   "outputs": [],
   "source": [
    "nc_kurtosis = nc_dataset[\"cases per week\"].kurtosis()\n",
    "nc_kurtosis "
   ]
  },
  {
   "cell_type": "code",
   "execution_count": null,
   "id": "4aba89af",
   "metadata": {},
   "outputs": [],
   "source": [
    "ca_kurtosis = ca_dataset[\"cases per week\"].kurtosis()\n",
    "ca_kurtosis"
   ]
  },
  {
   "cell_type": "code",
   "execution_count": 312,
   "id": "11502de0",
   "metadata": {},
   "outputs": [
    {
     "data": {
      "text/plain": [
       "1.9927668553131825"
      ]
     },
     "execution_count": 312,
     "metadata": {},
     "output_type": "execute_result"
    }
   ],
   "source": [
    "fl_kurtosis = fl_dataset[\"cases per week\"].kurtosis()\n",
    "fl_kurtosis"
   ]
  },
  {
   "cell_type": "code",
   "execution_count": 313,
   "id": "cffbd086",
   "metadata": {},
   "outputs": [
    {
     "data": {
      "text/plain": [
       "2.9562703743664125"
      ]
     },
     "execution_count": 313,
     "metadata": {},
     "output_type": "execute_result"
    }
   ],
   "source": [
    "ny_kurtosis = ny_dataset[\"cases per week\"].kurtosis()\n",
    "ny_kurtosis"
   ]
  },
  {
   "cell_type": "code",
   "execution_count": 314,
   "id": "5468be0f",
   "metadata": {},
   "outputs": [
    {
     "data": {
      "text/plain": [
       "2.2583745666463892"
      ]
     },
     "execution_count": 314,
     "metadata": {},
     "output_type": "execute_result"
    }
   ],
   "source": [
    "pa_kurtosis = pa_dataset[\"cases per week\"].kurtosis()\n",
    "pa_kurtosis"
   ]
  },
  {
   "cell_type": "markdown",
   "id": "f3b00f7c",
   "metadata": {},
   "source": [
    "#### Texas: \n",
    "* **Type of distribution:** Exponential\n",
    "* **Moments of a distribution - center:** 35863\n",
    "* **Variance:** 2027273428.142\n",
    "* **Skewness:** 2.307\n",
    "* **Kurtosis:** 7.537\n",
    "\n",
    "#### North Carolina: \n",
    "* **Type of distribution:** Exponential\n",
    "* **Moments of a distribution - center:** 12946\n",
    "* **Variance:** 197364443.562\n",
    "* **Skewness:** 2.122\n",
    "* **Kurtosis:** 5.348\n",
    "\n",
    "#### California: \n",
    "* **Type of distribution:** Exponential\n",
    "* **Moments of a distribution - center:** 5939\n",
    "* **Variance:** 62872809.861\n",
    "* **Skewness:** 2.301\n",
    "* **Kurtosis:** 5.311\n",
    "\n",
    "#### Florida: \n",
    "* **Type of distribution:** Exponential\n",
    "* **Moments of a distribution - center:** 10399\n",
    "* **Variance:** 121638897.076\n",
    "* **Skewness:** 1.428\n",
    "* **Kurtosis:** 1.993\n",
    "\n",
    "#### New York: \n",
    "* **Type of distribution:** Exponential\n",
    "* **Moments of a distribution - center:** 6467\n",
    "* **Variance:** 63809830.34315926\n",
    "* **Skewness:** 1.807\n",
    "* **Kurtosis:** 2.956\n",
    "\n",
    "#### Pennsylvania: \n",
    "* **Type of distribution:** Exponential\n",
    "* **Moments of a distribution - center:** 7917\n",
    "* **Variance:** 109087168.913\n",
    "* **Skewness:** 2.122\n",
    "* **Kurtosis:** 2.258"
   ]
  },
  {
   "cell_type": "code",
   "execution_count": 318,
   "id": "224cc009",
   "metadata": {
    "scrolled": true
   },
   "outputs": [
    {
     "data": {
      "text/html": [
       "<div>\n",
       "<style scoped>\n",
       "    .dataframe tbody tr th:only-of-type {\n",
       "        vertical-align: middle;\n",
       "    }\n",
       "\n",
       "    .dataframe tbody tr th {\n",
       "        vertical-align: top;\n",
       "    }\n",
       "\n",
       "    .dataframe thead th {\n",
       "        text-align: right;\n",
       "    }\n",
       "</style>\n",
       "<table border=\"1\" class=\"dataframe\">\n",
       "  <thead>\n",
       "    <tr style=\"text-align: right;\">\n",
       "      <th></th>\n",
       "      <th>date</th>\n",
       "      <th>cases per week</th>\n",
       "      <th>deaths per week</th>\n",
       "    </tr>\n",
       "  </thead>\n",
       "  <tbody>\n",
       "    <tr>\n",
       "      <th>0</th>\n",
       "      <td>2020-01-26</td>\n",
       "      <td>0.0</td>\n",
       "      <td>0.0</td>\n",
       "    </tr>\n",
       "    <tr>\n",
       "      <th>1</th>\n",
       "      <td>2020-02-02</td>\n",
       "      <td>0.0</td>\n",
       "      <td>0.0</td>\n",
       "    </tr>\n",
       "    <tr>\n",
       "      <th>2</th>\n",
       "      <td>2020-02-09</td>\n",
       "      <td>0.0</td>\n",
       "      <td>0.0</td>\n",
       "    </tr>\n",
       "    <tr>\n",
       "      <th>3</th>\n",
       "      <td>2020-02-16</td>\n",
       "      <td>0.0</td>\n",
       "      <td>0.0</td>\n",
       "    </tr>\n",
       "    <tr>\n",
       "      <th>4</th>\n",
       "      <td>2020-02-23</td>\n",
       "      <td>0.0</td>\n",
       "      <td>0.0</td>\n",
       "    </tr>\n",
       "  </tbody>\n",
       "</table>\n",
       "</div>"
      ],
      "text/plain": [
       "        date  cases per week  deaths per week\n",
       "0 2020-01-26             0.0              0.0\n",
       "1 2020-02-02             0.0              0.0\n",
       "2 2020-02-09             0.0              0.0\n",
       "3 2020-02-16             0.0              0.0\n",
       "4 2020-02-23             0.0              0.0"
      ]
     },
     "execution_count": 318,
     "metadata": {},
     "output_type": "execute_result"
    }
   ],
   "source": [
    "n_tx_dataset.head()"
   ]
  },
  {
   "cell_type": "markdown",
   "id": "1c4424d0",
   "metadata": {},
   "source": [
    "### Task 2: part 2\n",
    "* Model a poission distribution of COVID-19 cases and deaths of a state and compare to other 5 states. For example, number of new cases and deaths per 100,000 population. Hint - the parameter for a poission's distribution will be its mean value. Then for the minimum and maximum range of covid cases you are calculating probability mass function to observe the probability at different points."
   ]
  },
  {
   "cell_type": "code",
   "execution_count": 323,
   "id": "9b86c9ae",
   "metadata": {
    "scrolled": true
   },
   "outputs": [
    {
     "data": {
      "image/png": "[encoded data removed]",
      "text/plain": [
       "<Figure size 432x288 with 1 Axes>"
      ]
     },
     "metadata": {
      "needs_background": "light"
     },
     "output_type": "display_data"
    }
   ],
   "source": [
    "texas = stats.poisson.rvs(size = 1000, mu = 35863)\n",
    "plt.hist(texas)\n",
    "plt.title(\"Texas Cases per week\") \n",
    "plt.show()"
   ]
  },
  {
   "cell_type": "code",
   "execution_count": 325,
   "id": "18e3f61d",
   "metadata": {},
   "outputs": [
    {
     "data": {
      "image/png": "[encoded data removed]",
      "text/plain": [
       "<Figure size 432x288 with 1 Axes>"
      ]
     },
     "metadata": {
      "needs_background": "light"
     },
     "output_type": "display_data"
    }
   ],
   "source": [
    "ca = stats.poisson.rvs(size = 1000, mu = 5939)\n",
    "plt.hist(ca)\n",
    "plt.title(\"California Cases per week\") \n",
    "plt.show()"
   ]
  },
  {
   "cell_type": "code",
   "execution_count": 326,
   "id": "da80fc95",
   "metadata": {
    "scrolled": true
   },
   "outputs": [
    {
     "data": {
      "image/png": "[encoded data removed]",
      "text/plain": [
       "<Figure size 432x288 with 1 Axes>"
      ]
     },
     "metadata": {
      "needs_background": "light"
     },
     "output_type": "display_data"
    }
   ],
   "source": [
    "nc = stats.poisson.rvs(size = 1000, mu = 12946)\n",
    "plt.hist(nc)\n",
    "plt.title(\"North Carolina Cases per week\") \n",
    "plt.show()"
   ]
  },
  {
   "cell_type": "code",
   "execution_count": 327,
   "id": "fd442fb8",
   "metadata": {},
   "outputs": [
    {
     "data": {
      "image/png": "[encoded data removed]",
      "text/plain": [
       "<Figure size 432x288 with 1 Axes>"
      ]
     },
     "metadata": {
      "needs_background": "light"
     },
     "output_type": "display_data"
    }
   ],
   "source": [
    "fl = stats.poisson.rvs(size = 1000, mu = 10399)\n",
    "plt.hist(fl)\n",
    "plt.title(\"Florida Cases per week\") \n",
    "plt.show()"
   ]
  },
  {
   "cell_type": "code",
   "execution_count": 328,
   "id": "3de49668",
   "metadata": {},
   "outputs": [
    {
     "data": {
      "image/png": "[encoded data removed]",
      "text/plain": [
       "<Figure size 432x288 with 1 Axes>"
      ]
     },
     "metadata": {
      "needs_background": "light"
     },
     "output_type": "display_data"
    }
   ],
   "source": [
    "ny = stats.poisson.rvs(size = 1000, mu = 6467)\n",
    "plt.hist(ny)\n",
    "plt.title(\"New York Cases per week\") \n",
    "plt.show()"
   ]
  },
  {
   "cell_type": "code",
   "execution_count": 329,
   "id": "9f47d0ee",
   "metadata": {},
   "outputs": [
    {
     "data": {
      "image/png": "[encoded data removed]",
      "text/plain": [
       "<Figure size 432x288 with 1 Axes>"
      ]
     },
     "metadata": {
      "needs_background": "light"
     },
     "output_type": "display_data"
    }
   ],
   "source": [
    "pa = stats.poisson.rvs(size = 1000, mu = 7917)\n",
    "plt.hist(pa)\n",
    "plt.title(\"Pennsylvania Cases per week\") \n",
    "plt.show()"
   ]
  },
  {
   "cell_type": "markdown",
   "id": "f6157162",
   "metadata": {},
   "source": [
    "### Task 2: part 3\n",
    "* Model poission distributions for North Carolina counties COVID-19 in cases and deaths. For example, number of new cases and deaths per 100,000 populations."
   ]
  },
  {
   "cell_type": "code",
   "execution_count": null,
   "id": "e1bd8d25",
   "metadata": {
    "scrolled": false
   },
   "outputs": [],
   "source": []
  },
  {
   "cell_type": "code",
   "execution_count": null,
   "id": "f448ab9e",
   "metadata": {},
   "outputs": [],
   "source": []
  },
  {
   "cell_type": "markdown",
   "id": "2b8a1597",
   "metadata": {},
   "source": [
    "### Task 2: part 4\n",
    "* Perform corelation between Enrichment data valiables and COVID-19 cases to observe any patterns.\n",
    "\n",
    "    * You can compare either within your chosen specific state or among different states with the different enrichment variables. Within the state you can compare the county based covid data to enrichment data for correlation. Between states you would need to aggregate to state level data and then perform correlation. Both covid and enrichment data will need to be normalized for population. For number of covid cases you can use a measure of center value (median or mean) to compare the number of cases."
   ]
  },
  {
   "cell_type": "code",
   "execution_count": null,
   "id": "827a93c2",
   "metadata": {},
   "outputs": [],
   "source": []
  },
  {
   "cell_type": "markdown",
   "id": "49f9ae3c",
   "metadata": {},
   "source": [
    "### Task 2: part 5\n",
    "* Formulate hypothesis between Enrichment data and number of cases to be compared against states. Choose 3 different variables to compare against.\n",
    "    * For example: Does higher employment data lead to higher covid case numbers or more rapid increase in covid cases."
   ]
  },
  {
   "cell_type": "code",
   "execution_count": null,
   "id": "98c18513",
   "metadata": {},
   "outputs": [],
   "source": []
  },
  {
   "cell_type": "code",
   "execution_count": null,
   "id": "0962f90c",
   "metadata": {},
   "outputs": [],
   "source": []
  }
 ],
 "metadata": {
  "kernelspec": {
   "display_name": "Python 3",
   "language": "python",
   "name": "python3"
  },
  "language_info": {
   "codemirror_mode": {
    "name": "ipython",
    "version": 3
   },
   "file_extension": ".py",
   "mimetype": "text/x-python",
   "name": "python",
   "nbconvert_exporter": "python",
   "pygments_lexer": "ipython3",
   "version": "3.8.8"
  }
 },
 "nbformat": 4,
 "nbformat_minor": 5
}
